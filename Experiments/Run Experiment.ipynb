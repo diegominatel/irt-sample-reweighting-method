{
 "cells": [
  {
   "cell_type": "code",
   "execution_count": 1,
   "id": "731dbc43",
   "metadata": {},
   "outputs": [
    {
     "name": "stderr",
     "output_type": "stream",
     "text": [
      "WARNING:root:No module named 'torch': LearnedFairRepresentations will be unavailable. To install, run:\n",
      "pip install 'aif360[LFR]'\n"
     ]
    }
   ],
   "source": [
    "import sys\n",
    "import pandas as pd\n",
    "import numpy as np \n",
    "import sys\n",
    "\n",
    "from settings import set_configs\n",
    "\n",
    "sys.path.append('../Algorithms/')\n",
    "from experiment_performer import ExperimentPerformer\n",
    "\n",
    "sys.path.append('../Datasets/Preprocessed-Datasets')\n",
    "from datasets import (Adult, Arrhythmia, Bank, CompasMen, CompasWomen, Contraceptive, Crack, \n",
    "                      German, Heart, Heroin, Student, Titanic)\n",
    "\n",
    "import warnings\n",
    "warnings.filterwarnings('ignore')"
   ]
  },
  {
   "cell_type": "code",
   "execution_count": 2,
   "id": "0ed56773",
   "metadata": {},
   "outputs": [
    {
     "name": "stdout",
     "output_type": "stream",
     "text": [
      "Teste | Classifier 14/15 (XGB)\n",
      "Iteration: 202, Log-Lik: -254.203, Max-Change: 0.00009\n",
      "Iteration: 228, Log-Lik: -427.493, Max-Change: 0.00009\n",
      "Iteration: 69, Log-Lik: -82.290, Max-Change: 0.00008\n"
     ]
    }
   ],
   "source": [
    "datasets = [Adult, Arrhythmia, Bank, CompasMen, CompasWomen, Contraceptive, Crack, German, Heart, \n",
    "            Heroin, Student, Titanic]\n",
    "\n",
    "for dataset in datasets:\n",
    "    x, y = dataset().get_xy()\n",
    "    all_configs = set_configs(x.shape[1])\n",
    "    for config_name, settings in all_configs.items():\n",
    "        name = dataset.__name__.lower() + '_' + config_name\n",
    "        experiment = ExperimentPerformer(classifier_settings=settings, protected_attribute='Group',\n",
    "                                         priv_group='Privileged', n=5, test_size=0.2,\n",
    "                                         random_state=42, print_display=True,\n",
    "                                         print_reports=True, experiment_name=name)\n",
    "        experiment.calculate(x, y)"
   ]
  },
  {
   "cell_type": "code",
   "execution_count": null,
   "id": "234c6506",
   "metadata": {},
   "outputs": [],
   "source": []
  }
 ],
 "metadata": {
  "kernelspec": {
   "display_name": "Python 3 (ipykernel)",
   "language": "python",
   "name": "python3"
  },
  "language_info": {
   "codemirror_mode": {
    "name": "ipython",
    "version": 3
   },
   "file_extension": ".py",
   "mimetype": "text/x-python",
   "name": "python",
   "nbconvert_exporter": "python",
   "pygments_lexer": "ipython3",
   "version": "3.8.10"
  }
 },
 "nbformat": 4,
 "nbformat_minor": 5
}
