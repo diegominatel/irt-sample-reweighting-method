{
 "cells": [
  {
   "cell_type": "code",
   "execution_count": 1,
   "id": "aaae5805",
   "metadata": {},
   "outputs": [],
   "source": [
    "import sys\n",
    "import numpy as np\n",
    "import pandas as pd\n",
    "from preprocess_datasets import (Adult, Arrhythmia, Bank, Compas, Contraceptive, DrugCrack, DrugHeroin,\n",
    "                                 German, Heart, Student, Titanic)"
   ]
  },
  {
   "cell_type": "markdown",
   "id": "430783cd",
   "metadata": {},
   "source": [
    "# Adult (Census Income)"
   ]
  },
  {
   "cell_type": "code",
   "execution_count": 2,
   "id": "42fcd815",
   "metadata": {},
   "outputs": [],
   "source": [
    "def convert_index(l, privileged_group):\n",
    "    if l == privileged_group:\n",
    "        return 'Male/White'\n",
    "    else:\n",
    "        return 'Others'\n",
    "\n",
    "convert_index = np.vectorize(convert_index) \n",
    "''' Load Adult'''\n",
    "adult = Adult()\n",
    "''' Filter only examples with White and Black race '''\n",
    "filter_ = {'race' : ['White', 'Black']}\n",
    "adult.data_filtering(filter_)\n",
    "''' Preprocessing (preprocess_datasets.py) '''\n",
    "adult.basic_preprocessing()\n",
    "''' Create Multindex (AIF360)'''\n",
    "frame = pd.DataFrame(convert_index(list(map('/'.join, list(adult.dataset.index))), 'Male/White'), columns=['race'])\n",
    "multindex = pd.MultiIndex.from_frame(frame)\n",
    "adult.dataset = pd.DataFrame(adult.dataset.to_numpy(), index=multindex, columns=adult.dataset.columns)\n",
    "adult.dataset.index.set_names('Group', inplace=True)\n",
    "adult.dataset.rename(columns = {'class' : 'target'}, \n",
    "                     index = {'Male/White' : 'Privileged', 'Others' : 'Unprivileged'}, inplace=True)\n",
    "''' Save '''\n",
    "adult.dataset.to_csv('adult.csv', sep=';')"
   ]
  },
  {
   "cell_type": "markdown",
   "id": "9232b210",
   "metadata": {},
   "source": [
    "# Arrhythmia"
   ]
  },
  {
   "cell_type": "code",
   "execution_count": 3,
   "id": "09e7b939",
   "metadata": {},
   "outputs": [],
   "source": [
    "''' Load Arrhythmia '''\n",
    "arrhythmia = Arrhythmia()\n",
    "''' Preprocessing '''\n",
    "arrhythmia.basic_preprocessing()\n",
    "''' Create Multindex (AIF360)'''\n",
    "arrhythmia.dataset.index.set_names('Group', inplace=True)\n",
    "arrhythmia.dataset.rename(columns = {'class' : 'target'}, index = {'Male' : 'Privileged', 'Female' : 'Unprivileged'}, inplace=True)\n",
    "''' Save '''\n",
    "arrhythmia.dataset.to_csv('arrhythmia.csv', sep=';')"
   ]
  },
  {
   "cell_type": "markdown",
   "id": "c6d7d00c",
   "metadata": {},
   "source": [
    "# Bank"
   ]
  },
  {
   "cell_type": "code",
   "execution_count": 4,
   "id": "6884f5a3",
   "metadata": {},
   "outputs": [],
   "source": [
    "''' Load Bank '''\n",
    "bank = Bank()\n",
    "''' Preprocessing '''\n",
    "bank.basic_preprocessing()\n",
    "''' Create Multindex (AIF360)'''\n",
    "bank.dataset.index.set_names('Group', inplace=True)\n",
    "bank.dataset.rename(columns = {'y' : 'target'}, \n",
    "                    index = {'>25' : 'Privileged', '<=25' : 'Unprivileged'}, inplace=True)\n",
    "''' Save '''\n",
    "bank.dataset.to_csv('bank.csv', sep=';')"
   ]
  },
  {
   "cell_type": "markdown",
   "id": "5227de0b",
   "metadata": {},
   "source": [
    "# Compas - Men (Recidivism Male)"
   ]
  },
  {
   "cell_type": "code",
   "execution_count": 5,
   "id": "fb1a7bb4",
   "metadata": {},
   "outputs": [],
   "source": [
    "def convert_index(l, privileged_group):\n",
    "    if l == privileged_group:\n",
    "        return 'Caucasian'\n",
    "    else:\n",
    "        return 'Others'\n",
    "\n",
    "convert_index = np.vectorize(convert_index) \n",
    "''' Load Compas'''\n",
    "compas = Compas()\n",
    "''' Filter only examples with White and Black race '''\n",
    "filter_ = {'sex' : ['Male'], 'race' : ['Caucasian', 'African-American']}\n",
    "compas.data_filtering(filter_)\n",
    "''' Preprocessing '''\n",
    "compas.basic_preprocessing()\n",
    "''' Create Multindex (AIF360)'''\n",
    "frame = pd.DataFrame(convert_index(list(map('/'.join, list(compas.dataset.index))), 'Male/Caucasian'), columns=['race'])\n",
    "multindex = pd.MultiIndex.from_frame(frame)\n",
    "compas.dataset = pd.DataFrame(compas.dataset.to_numpy(), index=multindex, columns=compas.dataset.columns)\n",
    "compas.dataset.index.set_names('Group', inplace=True)\n",
    "compas.dataset.rename(columns = {'two_year_recid' : 'target'}, \n",
    "                             index = {'Caucasian' : 'Privileged', 'Others' : 'Unprivileged'}, inplace=True)\n",
    "''' Save Compas with only male examples '''\n",
    "compas.dataset.to_csv('compasMen.csv', sep=';')"
   ]
  },
  {
   "cell_type": "markdown",
   "id": "89af95ec",
   "metadata": {},
   "source": [
    "# Compas - Women (Recidivism Female)"
   ]
  },
  {
   "cell_type": "code",
   "execution_count": 6,
   "id": "3cace376",
   "metadata": {},
   "outputs": [],
   "source": [
    "def convert_index(l, privileged_group):\n",
    "    if l == privileged_group:\n",
    "        return 'Caucasian'\n",
    "    else:\n",
    "        return 'Others'\n",
    "\n",
    "convert_index = np.vectorize(convert_index) \n",
    "''' Load Compas '''\n",
    "compas2 = Compas()\n",
    "''' Filter only examples with White and Black race '''\n",
    "filter_ = {'sex' : ['Female'], 'race' : ['Caucasian', 'African-American']}\n",
    "compas2.data_filtering(filter_)\n",
    "''' Preprocessing '''\n",
    "compas2.basic_preprocessing()\n",
    "''' Create Multindex (AIF360)'''\n",
    "frame = pd.DataFrame(convert_index(list(map('/'.join, list(compas2.dataset.index))), 'Female/Caucasian'), columns=['race'])\n",
    "multindex = pd.MultiIndex.from_frame(frame)\n",
    "compas2.dataset = pd.DataFrame(compas2.dataset.to_numpy(), index=multindex, columns=compas2.dataset.columns)\n",
    "compas2.dataset.index.set_names('Group', inplace=True)\n",
    "compas2.dataset.rename(columns = {'two_year_recid' : 'target'}, \n",
    "                            index = {'Caucasian' : 'Privileged', 'Others' : 'Unprivileged'}, inplace=True)\n",
    "''' Save Compas with only female examples'''\n",
    "compas2.dataset.to_csv('compasWomen.csv', sep=';')"
   ]
  },
  {
   "cell_type": "markdown",
   "id": "7ef76b69",
   "metadata": {},
   "source": [
    "# Contraceptive"
   ]
  },
  {
   "cell_type": "code",
   "execution_count": 7,
   "id": "81e41055",
   "metadata": {},
   "outputs": [],
   "source": [
    "''' Load Contraceptive '''\n",
    "contraceptive = Contraceptive()\n",
    "''' Preprocessing '''\n",
    "contraceptive.basic_preprocessing()\n",
    "''' Create Multindex (AIF360)'''\n",
    "contraceptive.dataset.index.set_names('Group', inplace=True)\n",
    "contraceptive.dataset.rename(columns = {'use_contraceptive' : 'target'}, \n",
    "                             index = {'Non-Islam' : 'Privileged', 'Islam' : 'Unprivileged'}, inplace=True)\n",
    "''' Save '''\n",
    "contraceptive.dataset.to_csv('contraceptive.csv', sep=';')"
   ]
  },
  {
   "cell_type": "markdown",
   "id": "5e68d8ce",
   "metadata": {},
   "source": [
    "# Drug - Crack"
   ]
  },
  {
   "cell_type": "code",
   "execution_count": 8,
   "id": "992e91ca",
   "metadata": {},
   "outputs": [],
   "source": [
    "''' Load Drug - Crack '''\n",
    "crack = DrugCrack()\n",
    "''' Preprocessing '''\n",
    "crack.basic_preprocessing()\n",
    "''' Create Multindex (AIF360)'''\n",
    "crack.dataset.index.set_names('Group', inplace=True)\n",
    "crack.dataset.rename(columns = {'crack' : 'target'}, \n",
    "                      index = {'White' : 'Privileged', 'Non-White' : 'Unprivileged'}, inplace=True)\n",
    "''' Save '''\n",
    "crack.dataset.to_csv('crack.csv', sep=';')"
   ]
  },
  {
   "cell_type": "markdown",
   "id": "acfebe44",
   "metadata": {},
   "source": [
    "# Drug - Heroin"
   ]
  },
  {
   "cell_type": "code",
   "execution_count": 9,
   "id": "84174b9c",
   "metadata": {},
   "outputs": [],
   "source": [
    "''' Load Drug - Heroin '''\n",
    "heroin = DrugHeroin()\n",
    "''' Preprocessing '''\n",
    "heroin.basic_preprocessing()\n",
    "''' Create Multindex (AIF360)'''\n",
    "heroin.dataset.index.set_names('Group', inplace=True)\n",
    "heroin.dataset.rename(columns = {'heroin' : 'target'}, \n",
    "                      index = {'White' : 'Privileged', 'Non-White' : 'Unprivileged'}, inplace=True)\n",
    "''' Save '''\n",
    "heroin.dataset.to_csv('heroin.csv', sep=';')"
   ]
  },
  {
   "cell_type": "markdown",
   "id": "3cf34c8f",
   "metadata": {},
   "source": [
    "# German Credit"
   ]
  },
  {
   "cell_type": "code",
   "execution_count": 10,
   "id": "893cfe73",
   "metadata": {},
   "outputs": [],
   "source": [
    "''' Load German Credit '''\n",
    "german = German()\n",
    "''' Preprocessing '''\n",
    "german.basic_preprocessing()\n",
    "''' Create Multindex (AIF360)'''\n",
    "german.dataset.index.set_names('Group', inplace=True)\n",
    "german.dataset.rename(columns = {'class' : 'target'}, \n",
    "                      index = {'Male' : 'Privileged', 'Female' : 'Unprivileged'}, inplace=True)\n",
    "''' Save '''\n",
    "german.dataset.to_csv('german.csv', sep=';')"
   ]
  },
  {
   "cell_type": "markdown",
   "id": "abb73ee5",
   "metadata": {},
   "source": [
    "# Heart"
   ]
  },
  {
   "cell_type": "code",
   "execution_count": 11,
   "id": "7fd64b17",
   "metadata": {},
   "outputs": [],
   "source": [
    "''' Load Heart '''\n",
    "heart = Heart()\n",
    "''' Preprocessing '''\n",
    "heart.basic_preprocessing()\n",
    "''' Create Multindex (AIF360)'''\n",
    "heart.dataset.index.set_names('Group', inplace=True)\n",
    "heart.dataset.rename(columns = {'class' : 'target'}, \n",
    "                     index = {'Non-Senior' : 'Privileged', 'Senior' : 'Unprivileged'}, inplace=True)\n",
    "''' Save '''\n",
    "heart.dataset.to_csv('heart.csv', sep=';')"
   ]
  },
  {
   "cell_type": "markdown",
   "id": "9e313646",
   "metadata": {},
   "source": [
    "# Student"
   ]
  },
  {
   "cell_type": "code",
   "execution_count": 12,
   "id": "ae98b6d3",
   "metadata": {},
   "outputs": [],
   "source": [
    "student = Student()\n",
    "student.basic_preprocessing()\n",
    "\n",
    "\n",
    "student.dataset.index.set_names('Group', inplace=True)\n",
    "student.dataset.rename(columns = {'Class' : 'target'}, \n",
    "                       index = {'M' : 'Privileged', 'F' : 'Unprivileged'}, inplace=True)\n",
    "\n",
    "student.dataset.to_csv('student.csv', sep=';')"
   ]
  },
  {
   "cell_type": "markdown",
   "id": "26a9618d",
   "metadata": {},
   "source": [
    "# Titanic"
   ]
  },
  {
   "cell_type": "code",
   "execution_count": 13,
   "id": "1abdc3d7",
   "metadata": {},
   "outputs": [],
   "source": [
    "''' Load Titanic '''\n",
    "titanic = Titanic()\n",
    "''' Preprocessing '''\n",
    "titanic.basic_preprocessing()\n",
    "''' Create Multindex (AIF360)'''\n",
    "titanic.dataset.index.set_names('Group', inplace=True)\n",
    "titanic.dataset.rename(columns = {'Survived' : 'target'}, \n",
    "                       index = {'female' : 'Privileged', 'male' : 'Unprivileged'}, inplace=True)\n",
    "''' Save '''\n",
    "titanic.dataset.to_csv('titanic.csv', sep=';')"
   ]
  },
  {
   "cell_type": "code",
   "execution_count": null,
   "id": "ebed4733",
   "metadata": {},
   "outputs": [],
   "source": []
  }
 ],
 "metadata": {
  "kernelspec": {
   "display_name": "Python 3 (ipykernel)",
   "language": "python",
   "name": "python3"
  },
  "language_info": {
   "codemirror_mode": {
    "name": "ipython",
    "version": 3
   },
   "file_extension": ".py",
   "mimetype": "text/x-python",
   "name": "python",
   "nbconvert_exporter": "python",
   "pygments_lexer": "ipython3",
   "version": "3.8.10"
  }
 },
 "nbformat": 4,
 "nbformat_minor": 5
}
